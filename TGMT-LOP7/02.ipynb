{
 "cells": [
  {
   "cell_type": "code",
   "execution_count": 1,
   "id": "ce757459-42ca-40b6-babb-e2f10a5841de",
   "metadata": {},
   "outputs": [
    {
     "name": "stdout",
     "output_type": "stream",
     "text": [
      "Requirement already satisfied: pillow in d:\\anaconda\\lib\\site-packages (10.3.0)\n"
     ]
    }
   ],
   "source": [
    "!pip install pillow"
   ]
  },
  {
   "cell_type": "code",
   "execution_count": 2,
   "id": "c8b49dd9-f3f4-408b-b3da-53c4ffc8212f",
   "metadata": {},
   "outputs": [],
   "source": [
    "from PIL import Image\n",
    "from imgtools import *"
   ]
  },
  {
   "cell_type": "code",
   "execution_count": 4,
   "id": "5d9b05e8-9590-462b-82a1-149876039d65",
   "metadata": {},
   "outputs": [],
   "source": [
    "# KHAI BÁO ĐƯỜNG DẪN CHỨA HÌNH\n",
    "dir = 'C:/Users/trant/Pictures/Screenshots'"
   ]
  },
  {
   "cell_type": "code",
   "execution_count": 6,
   "id": "0578e686-07dd-4d65-a31c-d3eae3d5fe6b",
   "metadata": {},
   "outputs": [],
   "source": [
    "imgs = get_image_list(dir)"
   ]
  },
  {
   "cell_type": "code",
   "execution_count": null,
   "id": "42889a3f-c622-42bc-aa41-c41411ee1cef",
   "metadata": {},
   "outputs": [],
   "source": [
    "for img in imgs:\n",
    "    print(img.size)\n",
    "    display(img)"
   ]
  },
  {
   "cell_type": "code",
   "execution_count": null,
   "id": "bad1d130-4135-4ac9-bd48-264ce1f9a5d7",
   "metadata": {},
   "outputs": [],
   "source": []
  }
 ],
 "metadata": {
  "kernelspec": {
   "display_name": "Python 3 (ipykernel)",
   "language": "python",
   "name": "python3"
  },
  "language_info": {
   "codemirror_mode": {
    "name": "ipython",
    "version": 3
   },
   "file_extension": ".py",
   "mimetype": "text/x-python",
   "name": "python",
   "nbconvert_exporter": "python",
   "pygments_lexer": "ipython3",
   "version": "3.12.4"
  }
 },
 "nbformat": 4,
 "nbformat_minor": 5
}
